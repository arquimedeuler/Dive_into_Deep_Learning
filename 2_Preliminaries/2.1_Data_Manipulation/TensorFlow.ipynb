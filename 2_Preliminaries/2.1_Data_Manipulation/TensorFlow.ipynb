{
 "cells": [
  {
   "cell_type": "markdown",
   "id": "be361b5b-420d-4173-b792-33d1382b8b25",
   "metadata": {},
   "source": [
    "# 2.1. Data Manipulation"
   ]
  },
  {
   "cell_type": "markdown",
   "id": "8c6ec69a-f1f3-4ddd-8df3-e5a373d8ad45",
   "metadata": {},
   "source": [
    "# 2.1.1. Getting Started"
   ]
  },
  {
   "cell_type": "markdown",
   "id": "c3a5ae4d-c7d4-496f-8334-8cac5107f4b9",
   "metadata": {},
   "source": [
    "To start, we import tensorflow. For brevity, practitioners often assign the alias tf."
   ]
  },
  {
   "cell_type": "code",
   "execution_count": 1,
   "id": "64f5d87a-9ac9-4a74-9f02-b149cd35af84",
   "metadata": {},
   "outputs": [
    {
     "name": "stdout",
     "output_type": "stream",
     "text": [
      "WARNING:tensorflow:From C:\\Users\\Alan_\\AppData\\Local\\Programs\\Python\\Python310\\lib\\site-packages\\keras\\src\\losses.py:2976: The name tf.losses.sparse_softmax_cross_entropy is deprecated. Please use tf.compat.v1.losses.sparse_softmax_cross_entropy instead.\n",
      "\n"
     ]
    }
   ],
   "source": [
    "import tensorflow as tf"
   ]
  },
  {
   "cell_type": "code",
   "execution_count": 2,
   "id": "a7a4b9fa-677b-4201-8710-f964f97ddf04",
   "metadata": {},
   "outputs": [
    {
     "data": {
      "text/plain": [
       "<tf.Tensor: shape=(12,), dtype=float32, numpy=\n",
       "array([ 0.,  1.,  2.,  3.,  4.,  5.,  6.,  7.,  8.,  9., 10., 11.],\n",
       "      dtype=float32)>"
      ]
     },
     "execution_count": 2,
     "metadata": {},
     "output_type": "execute_result"
    }
   ],
   "source": [
    "x = tf.range(12, dtype = tf.float32)\n",
    "x"
   ]
  },
  {
   "cell_type": "markdown",
   "id": "e9a3e180-f95e-4958-8347-fa3dfe8f13b3",
   "metadata": {},
   "source": [
    "Each of these values is called an element of the tensor. The tensor _x_ contains 12 elements. We can inspect the total number of elements in a tensor via its ```size``` function."
   ]
  },
  {
   "cell_type": "code",
   "execution_count": 3,
   "id": "5cb4e7f9-0109-4dbf-a73e-45c89b4f5f21",
   "metadata": {},
   "outputs": [
    {
     "data": {
      "text/plain": [
       "<tf.Tensor: shape=(), dtype=int32, numpy=12>"
      ]
     },
     "execution_count": 3,
     "metadata": {},
     "output_type": "execute_result"
    }
   ],
   "source": [
    "tf.size(x)"
   ]
  },
  {
   "cell_type": "markdown",
   "id": "46730577-fc50-4132-9122-484e052c07e4",
   "metadata": {},
   "source": [
    "We can access a tensor’s shape (the length along each axis) by inspecting its ```shape``` attribute. Because we are dealing with a vector here, the shape contains just a single element and is identical to the size."
   ]
  },
  {
   "cell_type": "code",
   "execution_count": 4,
   "id": "67f8786d-f3a8-452a-a686-343603b01cd6",
   "metadata": {},
   "outputs": [
    {
     "data": {
      "text/plain": [
       "TensorShape([12])"
      ]
     },
     "execution_count": 4,
     "metadata": {},
     "output_type": "execute_result"
    }
   ],
   "source": [
    "x.shape"
   ]
  },
  {
   "cell_type": "markdown",
   "id": "7e749763-0c35-4c00-a750-73d27dceec7d",
   "metadata": {},
   "source": [
    "We can change the shape of a tensor without altering its size or values, by invoking ```reshape```. For example, we can transform our vector x whose shape is (12,) to a matrix X with shape (3, 4). This new tensor retains all elements but reconfigures them into a matrix. Notice that the elements of our vector are laid out one row at a time and thus x[3] == X[0, 3]."
   ]
  },
  {
   "cell_type": "code",
   "execution_count": 5,
   "id": "23b50918-2677-4091-b4ca-0537fff6e478",
   "metadata": {},
   "outputs": [
    {
     "data": {
      "text/plain": [
       "<tf.Tensor: shape=(3, 4), dtype=float32, numpy=\n",
       "array([[ 0.,  1.,  2.,  3.],\n",
       "       [ 4.,  5.,  6.,  7.],\n",
       "       [ 8.,  9., 10., 11.]], dtype=float32)>"
      ]
     },
     "execution_count": 5,
     "metadata": {},
     "output_type": "execute_result"
    }
   ],
   "source": [
    "X = tf.reshape(x, (3, 4))\n",
    "X"
   ]
  },
  {
   "cell_type": "markdown",
   "id": "06347fb1-21b0-45c3-a2eb-0024589d6980",
   "metadata": {},
   "source": [
    "Practitioners often need to work with tensors initialized to contain all 0s or 1s. We can construct a tensor with all elements set to 0 and a shape of (2, 3, 4) via the ```zeros``` function."
   ]
  },
  {
   "cell_type": "code",
   "execution_count": 6,
   "id": "49b7ad66-f073-4560-b94d-7a7adbeb0573",
   "metadata": {},
   "outputs": [
    {
     "data": {
      "text/plain": [
       "<tf.Tensor: shape=(2, 3, 4), dtype=float32, numpy=\n",
       "array([[[0., 0., 0., 0.],\n",
       "        [0., 0., 0., 0.],\n",
       "        [0., 0., 0., 0.]],\n",
       "\n",
       "       [[0., 0., 0., 0.],\n",
       "        [0., 0., 0., 0.],\n",
       "        [0., 0., 0., 0.]]], dtype=float32)>"
      ]
     },
     "execution_count": 6,
     "metadata": {},
     "output_type": "execute_result"
    }
   ],
   "source": [
    "tf.zeros((2, 3, 4))"
   ]
  },
  {
   "cell_type": "markdown",
   "id": "e9230574-01dc-4d81-b1d8-cb9b7577d9f2",
   "metadata": {},
   "source": [
    "Similarly, we can create a tensor with all 1s by invoking ```ones```."
   ]
  },
  {
   "cell_type": "code",
   "execution_count": 7,
   "id": "591fe1fc-c480-407d-933f-3ac30273145f",
   "metadata": {},
   "outputs": [
    {
     "data": {
      "text/plain": [
       "<tf.Tensor: shape=(2, 3, 4), dtype=float32, numpy=\n",
       "array([[[1., 1., 1., 1.],\n",
       "        [1., 1., 1., 1.],\n",
       "        [1., 1., 1., 1.]],\n",
       "\n",
       "       [[1., 1., 1., 1.],\n",
       "        [1., 1., 1., 1.],\n",
       "        [1., 1., 1., 1.]]], dtype=float32)>"
      ]
     },
     "execution_count": 7,
     "metadata": {},
     "output_type": "execute_result"
    }
   ],
   "source": [
    "tf.ones((2, 3, 4))"
   ]
  },
  {
   "cell_type": "markdown",
   "id": "ffcb8e39-4b27-485a-9b90-bf6ec4b62584",
   "metadata": {},
   "source": [
    "We often wish to sample each element randomly (and independently) from a given probability distribution. For example, the parameters of neural networks are often initialized randomly. The following snippet creates a tensor with elements drawn from a standard Gaussian (normal) distribution with mean 0 and standard deviation 1."
   ]
  },
  {
   "cell_type": "code",
   "execution_count": 8,
   "id": "28457086-fdf0-4d4b-add8-a9a3bbfdb818",
   "metadata": {},
   "outputs": [
    {
     "data": {
      "text/plain": [
       "<tf.Tensor: shape=(3, 4), dtype=float32, numpy=\n",
       "array([[ 0.90030813, -0.3498181 ,  1.00829   , -0.93116874],\n",
       "       [-0.3247628 ,  0.2344069 , -0.6093807 ,  0.7520952 ],\n",
       "       [-1.0945755 ,  0.58003813, -1.5838258 , -0.9817583 ]],\n",
       "      dtype=float32)>"
      ]
     },
     "execution_count": 8,
     "metadata": {},
     "output_type": "execute_result"
    }
   ],
   "source": [
    "tf.random.normal(shape=[3, 4])"
   ]
  },
  {
   "cell_type": "markdown",
   "id": "3a7fb5bc-827b-46a5-a532-a108cc00c969",
   "metadata": {},
   "source": [
    "Finally, we can construct tensors by supplying the exact values for each element by supplying (possibly nested) Python list(s) containing numerical literals. Here, we construct a matrix with a list of lists, where the outermost list corresponds to axis 0, and the inner list corresponds to axis 1."
   ]
  },
  {
   "cell_type": "code",
   "execution_count": 9,
   "id": "790d5cc2-0e55-41e8-b2ec-a9315016be36",
   "metadata": {},
   "outputs": [
    {
     "data": {
      "text/plain": [
       "<tf.Tensor: shape=(3, 4), dtype=int32, numpy=\n",
       "array([[2, 1, 4, 3],\n",
       "       [1, 2, 3, 4],\n",
       "       [4, 3, 2, 1]])>"
      ]
     },
     "execution_count": 9,
     "metadata": {},
     "output_type": "execute_result"
    }
   ],
   "source": [
    "tf.constant([[2, 1, 4, 3], [1, 2, 3, 4], [4, 3, 2, 1]])"
   ]
  },
  {
   "cell_type": "markdown",
   "id": "e75ed6de-c92f-430e-b30d-f7e5abaa27f5",
   "metadata": {},
   "source": [
    "## 2.1.2. Indexing and Slicing"
   ]
  },
  {
   "cell_type": "code",
   "execution_count": 10,
   "id": "b5bec972-15d4-45a7-8075-09a19fed40a3",
   "metadata": {},
   "outputs": [
    {
     "data": {
      "text/plain": [
       "(<tf.Tensor: shape=(4,), dtype=float32, numpy=array([ 8.,  9., 10., 11.], dtype=float32)>,\n",
       " <tf.Tensor: shape=(2, 4), dtype=float32, numpy=\n",
       " array([[ 4.,  5.,  6.,  7.],\n",
       "        [ 8.,  9., 10., 11.]], dtype=float32)>)"
      ]
     },
     "execution_count": 10,
     "metadata": {},
     "output_type": "execute_result"
    }
   ],
   "source": [
    "X[-1], X[1:3]"
   ]
  },
  {
   "cell_type": "markdown",
   "id": "592bfba9-6a2c-43e2-bf1a-4c2e161a103d",
   "metadata": {},
   "source": [
    "```Tensors``` in TensorFlow are immutable, and cannot be assigned to. ```Variables``` in TensorFlow are mutable containers of state that support assignments. Keep in mind that gradients in TensorFlow do not flow backwards through ```Variable``` assignments.\n",
    "\n",
    "Beyond assigning a value to the entire ```Variable```, we can write elements of a ```Variable``` by specifying indices."
   ]
  },
  {
   "cell_type": "code",
   "execution_count": 11,
   "id": "9e94a471-cd33-4755-9a16-2e1213606c88",
   "metadata": {},
   "outputs": [
    {
     "data": {
      "text/plain": [
       "<tf.Variable 'Variable:0' shape=(3, 4) dtype=float32, numpy=\n",
       "array([[ 0.,  1.,  2.,  3.],\n",
       "       [ 4.,  5.,  9.,  7.],\n",
       "       [ 8.,  9., 10., 11.]], dtype=float32)>"
      ]
     },
     "execution_count": 11,
     "metadata": {},
     "output_type": "execute_result"
    }
   ],
   "source": [
    "X_var = tf.Variable(X)\n",
    "X_var[1, 2].assign(9)\n",
    "X_var"
   ]
  },
  {
   "cell_type": "markdown",
   "id": "02fe7955-9b4f-4463-886c-62c04640345c",
   "metadata": {},
   "source": [
    "If we want to assign multiple elements the same value, we apply the indexing on the left-hand side of the assignment operation. For instance, [:2, :] accesses the first and second rows, where : takes all the elements along axis 1 (column). While we discussed indexing for matrices, this also works for vectors and for tensors of more than two dimensions.ns."
   ]
  },
  {
   "cell_type": "code",
   "execution_count": 12,
   "id": "519b848e-6db8-4a07-8c58-58528c71a5bd",
   "metadata": {},
   "outputs": [
    {
     "data": {
      "text/plain": [
       "<tf.Variable 'Variable:0' shape=(3, 4) dtype=float32, numpy=\n",
       "array([[12., 12., 12., 12.],\n",
       "       [12., 12., 12., 12.],\n",
       "       [ 8.,  9., 10., 11.]], dtype=float32)>"
      ]
     },
     "execution_count": 12,
     "metadata": {},
     "output_type": "execute_result"
    }
   ],
   "source": [
    "X_var = tf.Variable(X)\n",
    "X_var[:2, :].assign(tf.ones(X_var[:2, :].shape, dtype = tf.float32) * 12)\n",
    "X_var"
   ]
  },
  {
   "cell_type": "markdown",
   "id": "5b035507-5109-4a4e-8619-a80bc3b40bd0",
   "metadata": {},
   "source": [
    "## 2.1.3. Operations"
   ]
  },
  {
   "cell_type": "markdown",
   "id": "8da1ba08-b6b7-4add-960b-73db0f864095",
   "metadata": {},
   "source": [
    "In mathematical notation, we denote such _unary_ scalar operators (taking one input) by the signature $f: \\mathbb{R} \\rightarrow \\mathbb{R}$\n",
    ". This just means that the function maps from any real number onto some other real number. Most standard operators, including unary ones like$e^x$\r",
    " , can be applied elementwise."
   ]
  },
  {
   "cell_type": "code",
   "execution_count": 13,
   "id": "4cadbcfa-e69a-4f2c-85f3-192747b414d7",
   "metadata": {},
   "outputs": [
    {
     "data": {
      "text/plain": [
       "<tf.Tensor: shape=(12,), dtype=float32, numpy=\n",
       "array([1.0000000e+00, 2.7182817e+00, 7.3890562e+00, 2.0085537e+01,\n",
       "       5.4598148e+01, 1.4841316e+02, 4.0342877e+02, 1.0966332e+03,\n",
       "       2.9809580e+03, 8.1030840e+03, 2.2026465e+04, 5.9874141e+04],\n",
       "      dtype=float32)>"
      ]
     },
     "execution_count": 13,
     "metadata": {},
     "output_type": "execute_result"
    }
   ],
   "source": [
    "tf.exp(x)"
   ]
  },
  {
   "cell_type": "markdown",
   "id": "798243bb-9d27-42e6-951e-cc59a956f5de",
   "metadata": {},
   "source": [
    "Likewise, we denote binary scalar operators, which map pairs of real numbers to a (single) real number via the signature $f: \\mathbb{R}, \\mathbb{R} \\rightarrow \\mathbb{R}$. Given any two vectors $\\mathbf{u}$ and $\\mathbf{v}$ of the same shape, and a binary operator $f$, we can produce a vector $\\mathbf{c} = F\\left(\\mathbf{u}, \\mathbf{v}\\right)$ by setting $c_i \\leftarrow f\\left(u_i, v_i \\right)$, for all $i$, where $c_i$, $u_i$ and $v_i$ are the $i^\\text{th}$ elements of vectors $\\mathbf{c}$, $\\mathbf{u}$ and $\\mathbf{v}$. Here, we produced the vector-valued $F: \\mathbb{R}^d, \\mathbb{R}^d \\rightarrow \\mathbb{R}^d$ by _lifting_ the scalar function to an elementwise vector operation. The common standard arithmetic operators for addition (+), subtraction (-), multiplication (*), division (/), and exponentiation (**) have all been _lifted_ to elementwise operations for identically-shaped tensors of arbitrary shape."
   ]
  },
  {
   "cell_type": "code",
   "execution_count": 14,
   "id": "72045347-a05c-4391-b77a-cef250293116",
   "metadata": {},
   "outputs": [
    {
     "data": {
      "text/plain": [
       "(<tf.Tensor: shape=(4,), dtype=float32, numpy=array([ 3.,  4.,  6., 10.], dtype=float32)>,\n",
       " <tf.Tensor: shape=(4,), dtype=float32, numpy=array([-1.,  0.,  2.,  6.], dtype=float32)>,\n",
       " <tf.Tensor: shape=(4,), dtype=float32, numpy=array([ 2.,  4.,  8., 16.], dtype=float32)>,\n",
       " <tf.Tensor: shape=(4,), dtype=float32, numpy=array([0.5, 1. , 2. , 4. ], dtype=float32)>,\n",
       " <tf.Tensor: shape=(4,), dtype=float32, numpy=array([ 1.,  4., 16., 64.], dtype=float32)>)"
      ]
     },
     "execution_count": 14,
     "metadata": {},
     "output_type": "execute_result"
    }
   ],
   "source": [
    "x = tf.constant([1.0, 2, 4, 8])\n",
    "y = tf.constant([2.0, 2, 2, 2])\n",
    "x + y, x - y, x * y, x / y, x ** y"
   ]
  },
  {
   "cell_type": "markdown",
   "id": "5ecd62c2-6e83-4ea0-8299-a201de89b7d7",
   "metadata": {},
   "source": [
    "We can also concatenate multiple tensors, stacking them end-to-end to form a larger one. We just need to provide a list of tensors and tell the system along which axis to concatenate. The example below shows what happens when we concatenate two matrices along rows (axis 0) instead of columns (axis 1). y"
   ]
  },
  {
   "cell_type": "code",
   "execution_count": 15,
   "id": "4d65f73c-a639-4797-8c5d-0029d0fd55c9",
   "metadata": {},
   "outputs": [
    {
     "data": {
      "text/plain": [
       "(<tf.Tensor: shape=(6, 4), dtype=float32, numpy=\n",
       " array([[ 0.,  1.,  2.,  3.],\n",
       "        [ 4.,  5.,  6.,  7.],\n",
       "        [ 8.,  9., 10., 11.],\n",
       "        [ 2.,  1.,  4.,  3.],\n",
       "        [ 1.,  2.,  3.,  4.],\n",
       "        [ 4.,  3.,  2.,  1.]], dtype=float32)>,\n",
       " <tf.Tensor: shape=(3, 8), dtype=float32, numpy=\n",
       " array([[ 0.,  1.,  2.,  3.,  2.,  1.,  4.,  3.],\n",
       "        [ 4.,  5.,  6.,  7.,  1.,  2.,  3.,  4.],\n",
       "        [ 8.,  9., 10., 11.,  4.,  3.,  2.,  1.]], dtype=float32)>)"
      ]
     },
     "execution_count": 15,
     "metadata": {},
     "output_type": "execute_result"
    }
   ],
   "source": [
    "X = tf.reshape(tf.range(12, dtype=tf.float32), (3, 4))\n",
    "Y = tf.constant([[2.0, 1, 4, 3], [1, 2, 3, 4], [4, 3, 2, 1]])\n",
    "tf.concat([X, Y], axis=0), tf.concat([X, Y], axis=1)"
   ]
  },
  {
   "cell_type": "markdown",
   "id": "6899f35d-d566-4061-85e3-6b013ebbc274",
   "metadata": {},
   "source": [
    "Sometimes, we want to construct a binary tensor via logical statements. Take X == Y as an example. For each position i, j, if X[i, j] and Y[i, j] are equal, then the corresponding entry in the result takes value 1, otherwise it takes value 0."
   ]
  },
  {
   "cell_type": "code",
   "execution_count": 16,
   "id": "6267e270-0b1e-43b4-921a-c2e65dbfdb50",
   "metadata": {},
   "outputs": [
    {
     "data": {
      "text/plain": [
       "<tf.Tensor: shape=(3, 4), dtype=bool, numpy=\n",
       "array([[False,  True, False,  True],\n",
       "       [False, False, False, False],\n",
       "       [False, False, False, False]])>"
      ]
     },
     "execution_count": 16,
     "metadata": {},
     "output_type": "execute_result"
    }
   ],
   "source": [
    "X == Y"
   ]
  },
  {
   "cell_type": "markdown",
   "id": "4fff31c4-566c-42a0-8ac5-2ef11f757e89",
   "metadata": {},
   "source": [
    "Summing all the elements in the tensor yields a tensor with only one element."
   ]
  },
  {
   "cell_type": "code",
   "execution_count": 17,
   "id": "3cb4c1b4-884a-440e-8c64-5ffd2338eafd",
   "metadata": {},
   "outputs": [
    {
     "data": {
      "text/plain": [
       "<tf.Tensor: shape=(), dtype=float32, numpy=66.0>"
      ]
     },
     "execution_count": 17,
     "metadata": {},
     "output_type": "execute_result"
    }
   ],
   "source": [
    "tf.reduce_sum(X)"
   ]
  },
  {
   "cell_type": "markdown",
   "id": "9f610387-fe4b-4327-a722-fead0aee0e1b",
   "metadata": {},
   "source": [
    "## 2.1.4. Broadcasting"
   ]
  },
  {
   "cell_type": "markdown",
   "id": "9f555cf1-6e45-4094-b4fb-114b5ff73f1e",
   "metadata": {},
   "source": [
    "Under certain conditions, even when shapes differ, we can still perform elementwise binary operations by invoking the broadcasting mechanism. Broadcasting works according to the following two-step procedure: (i) expand one or both arrays by copying elements along axes with length 1 so that after this transformation, the two tensors have the same shape; (ii) perform an elementwise operation on the resulting arrays."
   ]
  },
  {
   "cell_type": "code",
   "execution_count": 18,
   "id": "f0bf8acf-20f7-4922-9a32-eaa267a6507d",
   "metadata": {},
   "outputs": [
    {
     "data": {
      "text/plain": [
       "(<tf.Tensor: shape=(3, 1), dtype=int32, numpy=\n",
       " array([[0],\n",
       "        [1],\n",
       "        [2]])>,\n",
       " <tf.Tensor: shape=(1, 2), dtype=int32, numpy=array([[0, 1]])>)"
      ]
     },
     "execution_count": 18,
     "metadata": {},
     "output_type": "execute_result"
    }
   ],
   "source": [
    "a = tf.reshape(tf.range(3), (3, 1))\n",
    "b = tf.reshape(tf.range(2), (1, 2))\n",
    "a, b"
   ]
  },
  {
   "cell_type": "markdown",
   "id": "42018aa3-9bec-4377-8611-d7687adb584f",
   "metadata": {},
   "source": [
    "Since a and b are $3\\times 1$ and $1\\times 2$ matrices, respectively, their shapes do not match up. Broadcasting produces a larger $3\\times 2$ matrix by replicating matrix a along the columns and matrix b along the rows before adding them elementwise.\n",
    "\n",
    "$$ a = \\begin{pmatrix}\n",
    "0\\\\\n",
    "1 \\\\ \n",
    "2 \n",
    "\\end{pmatrix}, \\quad b = \\begin{pmatrix}\n",
    "0, 1 \\end{pmatrix}$$\n",
    "\n",
    "$$ a + b \\rightarrow \\begin{pmatrix}\n",
    "0, 0\\\\\n",
    "1, 1 \\\\ \n",
    "2, 2 \n",
    "\\end{pmatrix} + \\begin{pmatrix}\n",
    "0, 1\\\\\n",
    "0, 1 \\\\ \n",
    "0, 1 \n",
    "\\end{pmatrix} = \\begin{pmatrix}\n",
    "0, 1\\\\\n",
    "1, 2 \\\\ \n",
    "2, 3 \n",
    "\\end{pmatrix}$$"
   ]
  },
  {
   "cell_type": "code",
   "execution_count": 19,
   "id": "d429241f-e6c2-4f3e-a6f6-9a14c78af26c",
   "metadata": {},
   "outputs": [
    {
     "data": {
      "text/plain": [
       "<tf.Tensor: shape=(3, 2), dtype=int32, numpy=\n",
       "array([[0, 1],\n",
       "       [1, 2],\n",
       "       [2, 3]])>"
      ]
     },
     "execution_count": 19,
     "metadata": {},
     "output_type": "execute_result"
    }
   ],
   "source": [
    "a + b"
   ]
  },
  {
   "cell_type": "markdown",
   "id": "c2551d05-3173-4dfa-b8ea-daa0bf5f8f71",
   "metadata": {},
   "source": [
    "## 2.1.5. Saving Memory"
   ]
  },
  {
   "cell_type": "markdown",
   "id": "43d0bb43-b0c8-463e-acca-976d311106a8",
   "metadata": {},
   "source": [
    "Running operations can cause new memory to be allocated to host results. For example, if we write Y = X + Y, we dereference the tensor that Y used to point to and instead point Y at the newly allocated memory. We can demonstrate this issue with Python’s id() function, which gives us the exact address of the referenced object in memory. Note that after we run Y = Y + X, id(Y) points to a different location. That is because Python first evaluates Y + X, allocating new memory for the result and then points Y to this new location in memory."
   ]
  },
  {
   "cell_type": "code",
   "execution_count": 20,
   "id": "42a98a9b-2170-4204-b98c-548ab1e4a69d",
   "metadata": {},
   "outputs": [
    {
     "data": {
      "text/plain": [
       "2861766828880"
      ]
     },
     "execution_count": 20,
     "metadata": {},
     "output_type": "execute_result"
    }
   ],
   "source": [
    "id(Y)"
   ]
  },
  {
   "cell_type": "code",
   "execution_count": 21,
   "id": "1fae6f5e-0bd6-44f1-a43b-4046bb952997",
   "metadata": {},
   "outputs": [
    {
     "data": {
      "text/plain": [
       "False"
      ]
     },
     "execution_count": 21,
     "metadata": {},
     "output_type": "execute_result"
    }
   ],
   "source": [
    "before = id(Y)\n",
    "Y = Y + X\n",
    "id(Y) == before"
   ]
  },
  {
   "cell_type": "markdown",
   "id": "160d2d37-7b8e-48c3-87ac-b22ddf380e20",
   "metadata": {},
   "source": [
    "`Variables` are mutable containers of state in TensorFlow. They provide a way to store your model parameters. We can assign the result of an operation to a `Variable` with `assign`. To illustrate this concept, we overwrite the values of `Variable` Z after initializing it, using `zeros_like`, to have the same shape as Y."
   ]
  },
  {
   "cell_type": "code",
   "execution_count": 22,
   "id": "dcbd3987-6ebe-4140-be31-22ed75703c9a",
   "metadata": {},
   "outputs": [
    {
     "name": "stdout",
     "output_type": "stream",
     "text": [
      "id(Z): 2861766667248\n",
      "id(Z): 2861766667248\n"
     ]
    }
   ],
   "source": [
    "Z = tf.Variable(tf.zeros_like(Y))\n",
    "print(f\"id(Z): {id(Z)}\")\n",
    "Z.assign(X + Y)\n",
    "print(f\"id(Z): {id(Z)}\")"
   ]
  },
  {
   "cell_type": "markdown",
   "id": "66ff622b-574e-4557-8544-2369ed8a38c8",
   "metadata": {},
   "source": [
    "Even once you store state persistently in a Variable, you may want to reduce your memory usage further by avoiding excess allocations for tensors that are not your model parameters. Because TensorFlow Tensors are immutable and gradients do not flow through Variable assignments, TensorFlow does not provide an explicit way to run an individual operation in-place.\r\n",
    "\r\n",
    "However, TensorFlow provides the tf.function decorator to wrap computation inside of a TensorFlow graph that gets compiled and optimized before running. This allows TensorFlow to prune unused values, and to reuse prior allocations that are no longer needed. This minimizes the memory overhead of TensorFlow computations."
   ]
  },
  {
   "cell_type": "code",
   "execution_count": 23,
   "id": "defc338a-bc0d-423b-b706-015d547d23fe",
   "metadata": {},
   "outputs": [
    {
     "data": {
      "text/plain": [
       "<tf.Tensor: shape=(3, 4), dtype=float32, numpy=\n",
       "array([[ 8.,  9., 26., 27.],\n",
       "       [24., 33., 42., 51.],\n",
       "       [56., 57., 58., 59.]], dtype=float32)>"
      ]
     },
     "execution_count": 23,
     "metadata": {},
     "output_type": "execute_result"
    }
   ],
   "source": [
    "@tf.function\n",
    "def computation(X, Y):\n",
    "    Z = tf.zeros_like(Y)  # This unused value will be pruned out\n",
    "    A = X + Y  # Allocations will be reused when no longer needed\n",
    "    B = A + Y\n",
    "    C = B + Y\n",
    "    return C + Y\n",
    "\n",
    "computation(X, Y)"
   ]
  },
  {
   "cell_type": "markdown",
   "id": "10ed2698-56be-4041-a8bd-387c8e5af8be",
   "metadata": {},
   "source": [
    "## 2.1.6. Conversion to Other Python Objects"
   ]
  },
  {
   "cell_type": "markdown",
   "id": "59207e40-cbfa-46ed-b1e3-550caedd7760",
   "metadata": {},
   "source": [
    "Converting to a NumPy tensor (`ndarray`), or vice versa, is easy. The converted result does not share memory. This minor inconvenience is actually quite important: when you perform operations on the CPU or on GPUs, you do not want to halt computation, waiting to see whether the NumPy package of Python might want to be doing something else with the same chunk of memory."
   ]
  },
  {
   "cell_type": "code",
   "execution_count": 24,
   "id": "9297d668-76c3-42dd-b32b-61d177f20100",
   "metadata": {},
   "outputs": [
    {
     "data": {
      "text/plain": [
       "(numpy.ndarray, tensorflow.python.framework.ops.EagerTensor)"
      ]
     },
     "execution_count": 24,
     "metadata": {},
     "output_type": "execute_result"
    }
   ],
   "source": [
    "A = X.numpy()\n",
    "B = tf.constant(A)\n",
    "type(A), type(B)"
   ]
  },
  {
   "cell_type": "markdown",
   "id": "e0c3e2d6-e940-4ff1-a9d7-46f1c56a726c",
   "metadata": {},
   "source": [
    "To convert a size-1 tensor to a Python scalar, we can invoke the ```item``` function or Python’s built-in functions."
   ]
  },
  {
   "cell_type": "code",
   "execution_count": 25,
   "id": "8a335730-43c9-48b6-b58c-d74a2894d934",
   "metadata": {},
   "outputs": [
    {
     "data": {
      "text/plain": [
       "(array([3.5], dtype=float32), 3.5, 3.5, 3)"
      ]
     },
     "execution_count": 25,
     "metadata": {},
     "output_type": "execute_result"
    }
   ],
   "source": [
    "a = tf.constant([3.5]).numpy()\n",
    "a, a.item(), float(a), int(a)"
   ]
  },
  {
   "cell_type": "markdown",
   "id": "501e4960-fdca-48f1-8531-d459042a80d7",
   "metadata": {},
   "source": [
    "## 2.1.7. Summary"
   ]
  },
  {
   "cell_type": "markdown",
   "id": "0be4b32e-4852-471a-aaf1-c78a42466dcc",
   "metadata": {},
   "source": [
    "The tensor class is the main interface for storing and manipulating data in deep learning libraries. Tensors provide a variety of functionalities including construction routines; indexing and slicing; basic mathematics operations; broadcasting; memory-efficient assignment; and conversion to and from other Python objects."
   ]
  },
  {
   "cell_type": "code",
   "execution_count": null,
   "id": "3c8a0b0e-b75e-4015-9df8-ec277c9d2745",
   "metadata": {},
   "outputs": [],
   "source": []
  }
 ],
 "metadata": {
  "kernelspec": {
   "display_name": "Python 3 (ipykernel)",
   "language": "python",
   "name": "python3"
  },
  "language_info": {
   "codemirror_mode": {
    "name": "ipython",
    "version": 3
   },
   "file_extension": ".py",
   "mimetype": "text/x-python",
   "name": "python",
   "nbconvert_exporter": "python",
   "pygments_lexer": "ipython3",
   "version": "3.10.8"
  }
 },
 "nbformat": 4,
 "nbformat_minor": 5
}
